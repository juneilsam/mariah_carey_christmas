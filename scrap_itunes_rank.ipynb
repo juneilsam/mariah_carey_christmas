from urllib.request import urlopen
from bs4 import BeautifulSoup
import csv
from tqdm import tqdm

title = 'All I Want for Christmas Is You'
artist = 'Mariah Carey'
full = artist + ' - ' + title
daily = []
temp = []

# 리스트 가져오기

list_url = 'https://kworb.net/ww/archive/'
html = urlopen(list_url).read()
soup = BeautifulSoup(html, "lxml")
addresses = soup.find_all('a')

dates = []

for address in addresses:
    if len(address.text) >= 8:
        each = address.text[:8]
        dates.append(each)
    else:
        continue
        
# 매일 순위 추가하기

def addRank(date):
    daily_url = f'{list_url}{date}.html'
    temp = []
    temp.append(str(date))
    
    # url open
    with urlopen(daily_url) as u:
            daily_soup = BeautifulSoup(u, "lxml")
            daily_table = daily_soup.find('table', {'class' : 'sortable'})
            
            try:
                daily_tr = daily_table.select('tr')
                artist_title = []
                rank = []
                rank2 = []
                
                # 아티스트 목록, US 순위, UK 순위
                for idx, tr in enumerate(daily_tr):                   
                    if idx >0:
                        artist_title.append(tr.select_one('td:nth-of-type(3)').text)
                        if len(tr.select_one('td:nth-of-type(9)').text) > 3:
                            rank.append(tr.select_one('td[style="border-left:1px solid black;"]').text)
                            rank2.append((tr.select_one('td[style="border-left:1px solid black;"]')).next_sibling.text)
                        else:
                            rank.append(tr.select_one('td:nth-of-type(9)').text)
                            rank2.append(tr.select_one('td:nth-of-type(9)').next_sibling.text)


                #데이터 추가
                if full in artist_title:
                    temp.append(str(artist_title.index(full) + 1))
                    temp.append(str(rank[artist_title.index(full)]))
                    temp.append(str(rank2[artist_title.index(full)]))

                else:
                    temp.append('400')
                    temp.append('400')
                    temp.append('400')
                            
            except:
                temp.append('err')
                temp.append('err')
                temp.append('err')
    
    daily.append(temp)

for date in tqdm(dates):
    addRank(date)

print(daily)
