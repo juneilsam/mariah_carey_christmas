{
  "nbformat": 4,
  "nbformat_minor": 0,
  "metadata": {
    "colab": {
      "name": "data_scrap.ipynb",
      "provenance": [],
      "collapsed_sections": [],
      "authorship_tag": "ABX9TyM0Qf2zuEE8ir5u9aPquqRW",
      "include_colab_link": true
    },
    "kernelspec": {
      "name": "python3",
      "display_name": "Python 3"
    }
  },
  "cells": [
    {
      "cell_type": "markdown",
      "metadata": {
        "id": "view-in-github",
        "colab_type": "text"
      },
      "source": [
        "<a href=\"https://colab.research.google.com/github/juneilsam/mariah_carey_christmas/blob/main/data_scrap.ipynb\" target=\"_parent\"><img src=\"https://colab.research.google.com/assets/colab-badge.svg\" alt=\"Open In Colab\"/></a>"
      ]
    },
    {
      "cell_type": "code",
      "metadata": {
        "id": "xEkpmgF02UVK"
      },
      "source": [
        "from urllib.request import urlopen\r\n",
        "from selenium import webdriver\r\n",
        "from bs4 import BeautifulSoup\r\n",
        "import csv\r\n",
        "import time\r\n",
        "from tqdm import tqdm\r\n",
        "from selenium.webdriver.common.keys import Keys"
      ],
      "execution_count": null,
      "outputs": []
    },
    {
      "cell_type": "markdown",
      "metadata": {
        "id": "A6IMEI_UDUd7"
      },
      "source": [
        "\r\n",
        "\r\n",
        "---\r\n",
        "\r\n",
        "---\r\n",
        "\r\n",
        "\r\n",
        "\r\n"
      ]
    },
    {
      "cell_type": "markdown",
      "metadata": {
        "id": "Jzq8comoChPh"
      },
      "source": [
        "# 1. i-tunes 음원순위 데이터 날짜 수집"
      ]
    },
    {
      "cell_type": "markdown",
      "metadata": {
        "id": "18p-aah1DSid"
      },
      "source": [
        "### 1-1. i-tunes 음원순위 데이터 날짜 수집"
      ]
    },
    {
      "cell_type": "code",
      "metadata": {
        "id": "ymkHR2GPoH8j"
      },
      "source": [
        "# 리스트 가져오기\r\n",
        "\r\n",
        "list_url = 'https://kworb.net/ww/archive/'\r\n",
        "html = urlopen(list_url).read()\r\n",
        "soup = BeautifulSoup(html, \"lxml\")\r\n",
        "addresses = soup.find_all('a')\r\n",
        "\r\n",
        "dates = []\r\n",
        "\r\n",
        "for address in addresses:\r\n",
        "    if len(address.text) >= 8:\r\n",
        "        each = address.text[:8]\r\n",
        "        dates.append(each)\r\n",
        "    else:\r\n",
        "        continue"
      ],
      "execution_count": null,
      "outputs": []
    },
    {
      "cell_type": "markdown",
      "metadata": {
        "id": "JeWejr_EDkdk"
      },
      "source": [
        "### 1-2. 세계, 미국, 영국 순위 수집 (i- tunes)"
      ]
    },
    {
      "cell_type": "code",
      "metadata": {
        "id": "rg1iMC7J7kWL"
      },
      "source": [
        "title = 'All I Want for Christmas Is You'\r\n",
        "artist = 'Mariah Carey'\r\n",
        "full = artist + ' - ' + title\r\n",
        "daily = []\r\n",
        "\r\n",
        "# 매일 순위 추가하기\r\n",
        "def addRank(date):\r\n",
        "    daily_url = f'{list_url}{date}.html'\r\n",
        "    temp = []\r\n",
        "    temp.append(str(date))\r\n",
        "    \r\n",
        "    # url open\r\n",
        "    with urlopen(daily_url) as u:\r\n",
        "            daily_soup = BeautifulSoup(u, \"lxml\")\r\n",
        "            daily_table = daily_soup.find('table', {'class' : 'sortable'})\r\n",
        "            \r\n",
        "            try:\r\n",
        "                daily_tr = daily_table.select('tr')\r\n",
        "                artist_title = []\r\n",
        "                rank = []\r\n",
        "                rank2 = []\r\n",
        "                \r\n",
        "                # 아티스트 목록, US 순위, UK 순위\r\n",
        "                for idx, tr in enumerate(daily_tr):                   \r\n",
        "                    if idx >0:\r\n",
        "                        artist_title.append(tr.select_one('td:nth-of-type(3)').text)\r\n",
        "                        if len(tr.select_one('td:nth-of-type(9)').text) > 3:\r\n",
        "                            rank.append(tr.select_one('td[style=\"border-left:1px solid black;\"]').text)\r\n",
        "                            rank2.append((tr.select_one('td[style=\"border-left:1px solid black;\"]')).next_sibling.text)\r\n",
        "                        else:\r\n",
        "                            rank.append(tr.select_one('td:nth-of-type(9)').text)\r\n",
        "                            rank2.append(tr.select_one('td:nth-of-type(9)').next_sibling.text)\r\n",
        "\r\n",
        "\r\n",
        "                #데이터 추가\r\n",
        "                if full in artist_title:\r\n",
        "                    temp.append(str(artist_title.index(full) + 1))\r\n",
        "                    temp.append(str(rank[artist_title.index(full)]))\r\n",
        "                    temp.append(str(rank2[artist_title.index(full)]))\r\n",
        "\r\n",
        "                else:\r\n",
        "                    temp.extend(['400', '400', '400'])\r\n",
        "                            \r\n",
        "            except:\r\n",
        "                temp.extend(['err', 'err', 'err'])\r\n",
        "    \r\n",
        "    daily.append(temp)\r\n",
        "    \r\n",
        "for date in tqdm(dates):\r\n",
        "    addRank(date)\r\n",
        "\r\n",
        "print(daily)"
      ],
      "execution_count": null,
      "outputs": []
    },
    {
      "cell_type": "markdown",
      "metadata": {
        "id": "wPh8e0RxD2BO"
      },
      "source": [
        "# 2. 미국, 영국 기온 정보 수집 "
      ]
    },
    {
      "cell_type": "markdown",
      "metadata": {
        "id": "PBLYSlBAD9zJ"
      },
      "source": [
        "### 2-1. 일별 기온 데이터 수집을 위한 url 리스트"
      ]
    },
    {
      "cell_type": "code",
      "metadata": {
        "id": "uHNpyFxaDlKj"
      },
      "source": [
        "dateT = []\r\n",
        "\r\n",
        "# 기온 날짜 리스트\r\n",
        "for year in range(2011, 2022):\r\n",
        "    if year == 2011:\r\n",
        "        for month in range(2, 13):\r\n",
        "            date = str(year) + '-' + str(month)\r\n",
        "            dateT.append(date)\r\n",
        "            \r\n",
        "    elif year == 2021:\r\n",
        "        dateT.append('2021' + '-' + '1')\r\n",
        "        \r\n",
        "    else:\r\n",
        "        for month in range(1, 13):\r\n",
        "            date = str(year) + '-' + str(month)\r\n",
        "            dateT.append(date)"
      ],
      "execution_count": null,
      "outputs": []
    },
    {
      "cell_type": "markdown",
      "metadata": {
        "id": "zWnQLdG5EPVr"
      },
      "source": [
        "### 2-2. 화씨 데이터를 섭씨 데이터로 변환하는 함수"
      ]
    },
    {
      "cell_type": "code",
      "metadata": {
        "id": "M3gQMAmp2gsz"
      },
      "source": [
        "# 화씨-섭씨 변환 함수\r\n",
        "def trans(f):\r\n",
        "    c = (float(f) - 32) * 5 / 9\r\n",
        "    return str(round(c, 2))"
      ],
      "execution_count": null,
      "outputs": []
    },
    {
      "cell_type": "markdown",
      "metadata": {
        "id": "xjFeBvL5EUn2"
      },
      "source": [
        "### 2-3. 미국(뉴욕), 영국(런던) 기온 데이터 수집"
      ]
    },
    {
      "cell_type": "code",
      "metadata": {
        "id": "Tu9KFAH4ckA7"
      },
      "source": [
        "dailyUS = []\r\n",
        "dailyUK = []\r\n",
        "us = 'us/ny/new-york-city/KLGA'\r\n",
        "uk = 'gb/london/EGLC'\r\n",
        "\r\n",
        "# 날씨 페이지 접속\r\n",
        "def render_page(url):\r\n",
        "    options = webdriver.ChromeOptions()\r\n",
        "    options.add_argument('--headless')\r\n",
        "    options.add_argument('--no-sandbox')\r\n",
        "    options.add_argument('--disable-dev-shm-usage')\r\n",
        "    driver = webdriver.Chrome('chromedriver', chrome_options=options)\r\n",
        "    driver.get(url)\r\n",
        "    time.sleep(5)\r\n",
        "    r = driver.page_source\r\n",
        "    driver.quit()\r\n",
        "    return r\r\n",
        "\r\n",
        "\r\n",
        "# 날씨 데이터 저장\r\n",
        "def addClimate(country):\r\n",
        "    \r\n",
        "    for d in ['2011-02']:\r\n",
        "\r\n",
        "        url = f'https://www.wunderground.com/history/monthly/{country}/date/{d}'\r\n",
        "\r\n",
        "        # 3초 기다리는 함수 및 불러내기   \r\n",
        "        r = render_page(url)\r\n",
        "\r\n",
        "        soup = BeautifulSoup(r, \"lxml\")\r\n",
        "        container = soup.select_one('lib-city-history-observation')\r\n",
        "        check = container.select_one('tbody')\r\n",
        "        table = check.select('table')[1]\r\n",
        "        td = table.select('td:nth-of-type(2)')\r\n",
        "\r\n",
        "        temp = []\r\n",
        "\r\n",
        "       # 데이터 저장\r\n",
        "        for i, data in enumerate(td):\r\n",
        "\r\n",
        "            if d == '2011-2':\r\n",
        "                if i > 18:\r\n",
        "                    temp.append(trans(data.text))\r\n",
        "\r\n",
        "            elif i > 0:\r\n",
        "                temp.append(trans(data.text))\r\n",
        "\r\n",
        "        # 미국 날씨\r\n",
        "        if country == us:\r\n",
        "            dailyUS.append(temp)\r\n",
        "\r\n",
        "        # 영국 날씨    \r\n",
        "        else:\r\n",
        "            dailyUK.append(temp)\r\n",
        "     \r\n",
        "        print(country + d + 'is done!')\r\n",
        "\r\n",
        "for country in [us, uk]:\r\n",
        "    addClimate(country)\r\n",
        "    \r\n",
        "print(dailyUS)\r\n",
        "print(dailyUK)"
      ],
      "execution_count": null,
      "outputs": []
    },
    {
      "cell_type": "markdown",
      "metadata": {
        "id": "BWlyX_pcFHSj"
      },
      "source": [
        "### 2-4. 월별로 분리된 기온 데이터를 음원데이터와 합치기 위해 일별로 분리"
      ]
    },
    {
      "cell_type": "code",
      "metadata": {
        "id": "3MSrZetFcm5t"
      },
      "source": [
        "# 기온 정렬 함수\r\n",
        "def openT(T):\r\n",
        "    temp = []\r\n",
        "    [temp.append(str(j)) for i in T for j in i]                      \r\n",
        "    T, temp = temp, T    \r\n",
        "    return T"
      ],
      "execution_count": null,
      "outputs": []
    },
    {
      "cell_type": "markdown",
      "metadata": {
        "id": "HXKA3Ha0FqKS"
      },
      "source": [
        "### 2-5. 음원데이터와 기온 데이터 합치기"
      ]
    },
    {
      "cell_type": "code",
      "metadata": {
        "id": "a-wSpMxpctwv"
      },
      "source": [
        "b = daily[:]\r\n",
        "\r\n",
        "# 정보 합치기, 순위 날짜 외 기온 제외\r\n",
        "for n in range(len(daily)):\r\n",
        "    b[n].insert(3, openT(dailyUS)[n])\r\n",
        "    b[n].append(openT(dailyUK)[n])"
      ],
      "execution_count": null,
      "outputs": []
    },
    {
      "cell_type": "markdown",
      "metadata": {
        "id": "iwdgGLozGPIx"
      },
      "source": [
        "# 3. CSV 파일로 저장"
      ]
    },
    {
      "cell_type": "code",
      "metadata": {
        "id": "1cyYDWOlc1Fv"
      },
      "source": [
        "with open('mariah_xmas.csv','w',encoding='utf-8',newline='') as f:\r\n",
        "    writer = csv.writer(f)\r\n",
        "    writer.writerow(['date','WDRank','USRank', 'USTemp', 'UKRank', 'UKTemp'])\r\n",
        "    writer.writerows(b)"
      ],
      "execution_count": null,
      "outputs": []
    }
  ]
}