{
  "nbformat": 4,
  "nbformat_minor": 0,
  "metadata": {
    "colab": {
      "name": "data_scrap.ipynb",
      "provenance": [],
      "collapsed_sections": [],
      "authorship_tag": "ABX9TyOo+vYMVLiHCQB9fJsz2sJf"
    },
    "kernelspec": {
      "name": "python3",
      "display_name": "Python 3"
    }
  },
  "cells": [
    {
      "cell_type": "code",
      "metadata": {
        "id": "xEkpmgF02UVK"
      },
      "source": [
        "from urllib.request import urlopen\n",
        "from selenium import webdriver\n",
        "from bs4 import BeautifulSoup\n",
        "import csv\n",
        "import time\n",
        "from tqdm import tqdm\n",
        "from selenium.webdriver.common.keys import Keys"
      ],
      "execution_count": null,
      "outputs": []
    },
    {
      "cell_type": "markdown",
      "metadata": {
        "id": "A6IMEI_UDUd7"
      },
      "source": [
        "\n",
        "\n",
        "---\n",
        "\n",
        "---\n",
        "\n",
        "\n",
        "\n"
      ]
    },
    {
      "cell_type": "markdown",
      "metadata": {
        "id": "Jzq8comoChPh"
      },
      "source": [
        "# 1. i-tunes 음원순위 데이터 날짜 수집"
      ]
    },
    {
      "cell_type": "markdown",
      "metadata": {
        "id": "18p-aah1DSid"
      },
      "source": [
        "### 1-1. i-tunes 음원순위 데이터 날짜 수집"
      ]
    },
    {
      "cell_type": "code",
      "metadata": {
        "id": "ymkHR2GPoH8j"
      },
      "source": [
        "# 리스트 가져오기\n",
        "\n",
        "list_url = 'https://kworb.net/ww/archive/'\n",
        "html = urlopen(list_url).read()\n",
        "soup = BeautifulSoup(html, \"lxml\")\n",
        "addresses = soup.find_all('a')\n",
        "\n",
        "dates = []\n",
        "\n",
        "for address in addresses:\n",
        "    if len(address.text) >= 8:\n",
        "        each = address.text[:8]\n",
        "        dates.append(each)\n",
        "    else:\n",
        "        continue"
      ],
      "execution_count": null,
      "outputs": []
    },
    {
      "cell_type": "markdown",
      "metadata": {
        "id": "JeWejr_EDkdk"
      },
      "source": [
        "### 1-2. 세계, 미국, 영국 순위 수집 (i- tunes)"
      ]
    },
    {
      "cell_type": "code",
      "metadata": {
        "id": "rg1iMC7J7kWL"
      },
      "source": [
        "title = 'All I Want for Christmas Is You'\n",
        "artist = 'Mariah Carey'\n",
        "full = artist + ' - ' + title\n",
        "daily = []\n",
        "\n",
        "# 매일 순위 추가하기\n",
        "def addRank(date):\n",
        "    daily_url = f'{list_url}{date}.html'\n",
        "    temp = []\n",
        "    temp.append(str(date))\n",
        "    \n",
        "    # url open\n",
        "    with urlopen(daily_url) as u:\n",
        "            daily_soup = BeautifulSoup(u, \"lxml\")\n",
        "            daily_table = daily_soup.find('table', {'class' : 'sortable'})\n",
        "            \n",
        "            try:\n",
        "                daily_tr = daily_table.select('tr')\n",
        "                artist_title = []\n",
        "                rank = []\n",
        "                rank2 = []\n",
        "                \n",
        "                # 아티스트 목록, US 순위, UK 순위\n",
        "                for idx, tr in enumerate(daily_tr):                   \n",
        "                    if idx >0:\n",
        "                        artist_title.append(tr.select_one('td:nth-of-type(3)').text)\n",
        "                        if len(tr.select_one('td:nth-of-type(9)').text) > 3:\n",
        "                            rank.append(tr.select_one('td[style=\"border-left:1px solid black;\"]').text)\n",
        "                            rank2.append((tr.select_one('td[style=\"border-left:1px solid black;\"]')).next_sibling.text)\n",
        "                        else:\n",
        "                            rank.append(tr.select_one('td:nth-of-type(9)').text)\n",
        "                            rank2.append(tr.select_one('td:nth-of-type(9)').next_sibling.text)\n",
        "\n",
        "\n",
        "                #데이터 추가\n",
        "                if full in artist_title:\n",
        "                    temp.append(str(artist_title.index(full) + 1))\n",
        "                    temp.append(str(rank[artist_title.index(full)]))\n",
        "                    temp.append(str(rank2[artist_title.index(full)]))\n",
        "\n",
        "                else:\n",
        "                    temp.extend(['400', '400', '400'])\n",
        "                            \n",
        "            except:\n",
        "                temp.extend(['err', 'err', 'err'])\n",
        "    \n",
        "    daily.append(temp)\n",
        "    \n",
        "for date in tqdm(dates):\n",
        "    addRank(date)\n",
        "\n",
        "print(daily)"
      ],
      "execution_count": null,
      "outputs": []
    },
    {
      "cell_type": "markdown",
      "metadata": {
        "id": "wPh8e0RxD2BO"
      },
      "source": [
        "# 2. 미국, 영국 기온 정보 수집 "
      ]
    },
    {
      "cell_type": "markdown",
      "metadata": {
        "id": "PBLYSlBAD9zJ"
      },
      "source": [
        "### 2-1. 일별 기온 데이터 수집을 위한 url 리스트"
      ]
    },
    {
      "cell_type": "code",
      "metadata": {
        "id": "uHNpyFxaDlKj"
      },
      "source": [
        "dateT = []\n",
        "\n",
        "# 기온 날짜 리스트\n",
        "for year in range(2011, 2022):\n",
        "    if year == 2011:\n",
        "        for month in range(2, 13):\n",
        "            date = str(year) + '-' + str(month)\n",
        "            dateT.append(date)\n",
        "            \n",
        "    elif year == 2021:\n",
        "        dateT.append('2021' + '-' + '1')\n",
        "        \n",
        "    else:\n",
        "        for month in range(1, 13):\n",
        "            date = str(year) + '-' + str(month)\n",
        "            dateT.append(date)"
      ],
      "execution_count": null,
      "outputs": []
    },
    {
      "cell_type": "markdown",
      "metadata": {
        "id": "zWnQLdG5EPVr"
      },
      "source": [
        "### 2-2. 화씨 데이터를 섭씨 데이터로 변환하는 함수"
      ]
    },
    {
      "cell_type": "code",
      "metadata": {
        "id": "M3gQMAmp2gsz"
      },
      "source": [
        "# 화씨-섭씨 변환 함수\n",
        "def trans(f):\n",
        "    c = (float(f) - 32) * 5 / 9\n",
        "    return str(round(c, 2))"
      ],
      "execution_count": null,
      "outputs": []
    },
    {
      "cell_type": "markdown",
      "metadata": {
        "id": "xjFeBvL5EUn2"
      },
      "source": [
        "### 2-3. 미국(뉴욕), 영국(런던) 기온 데이터 수집"
      ]
    },
    {
      "cell_type": "code",
      "metadata": {
        "id": "Tu9KFAH4ckA7"
      },
      "source": [
        "dailyUS = []\n",
        "dailyUK = []\n",
        "us = 'us/ny/new-york-city/KLGA'\n",
        "uk = 'gb/london/EGLC'\n",
        "\n",
        "# 날씨 페이지 접속\n",
        "def render_page(url):\n",
        "    options = webdriver.ChromeOptions()\n",
        "    options.add_argument('--headless')\n",
        "    options.add_argument('--no-sandbox')\n",
        "    options.add_argument('--disable-dev-shm-usage')\n",
        "    driver = webdriver.Chrome('chromedriver', chrome_options=options)\n",
        "    driver.get(url)\n",
        "    time.sleep(5)\n",
        "    r = driver.page_source\n",
        "    driver.quit()\n",
        "    return r\n",
        "\n",
        "\n",
        "# 날씨 데이터 저장\n",
        "def addClimate(country):\n",
        "    \n",
        "    for d in ['2011-02']:\n",
        "\n",
        "        url = f'https://www.wunderground.com/history/monthly/{country}/date/{d}'\n",
        "\n",
        "        # 3초 기다리는 함수 및 불러내기   \n",
        "        r = render_page(url)\n",
        "\n",
        "        soup = BeautifulSoup(r, \"lxml\")\n",
        "        container = soup.select_one('lib-city-history-observation')\n",
        "        check = container.select_one('tbody')\n",
        "        table = check.select('table')[1]\n",
        "        td = table.select('td:nth-of-type(2)')\n",
        "\n",
        "        temp = []\n",
        "\n",
        "       # 데이터 저장\n",
        "        for i, data in enumerate(td):\n",
        "\n",
        "            if d == '2011-2':\n",
        "                if i > 18:\n",
        "                    temp.append(trans(data.text))\n",
        "\n",
        "            elif i > 0:\n",
        "                temp.append(trans(data.text))\n",
        "\n",
        "        # 미국 날씨\n",
        "        if country == us:\n",
        "            dailyUS.append(temp)\n",
        "\n",
        "        # 영국 날씨    \n",
        "        else:\n",
        "            dailyUK.append(temp)\n",
        "     \n",
        "        print(country + d + 'is done!')\n",
        "\n",
        "for country in [us, uk]:\n",
        "    addClimate(country)\n",
        "    \n",
        "print(dailyUS)\n",
        "print(dailyUK)"
      ],
      "execution_count": null,
      "outputs": []
    },
    {
      "cell_type": "markdown",
      "metadata": {
        "id": "BWlyX_pcFHSj"
      },
      "source": [
        "### 2-4. 월별로 분리된 기온 데이터를 음원데이터와 합치기 위해 일별로 분리"
      ]
    },
    {
      "cell_type": "code",
      "metadata": {
        "id": "3MSrZetFcm5t"
      },
      "source": [
        "# 기온 정렬 함수\n",
        "def openT(T):\n",
        "    temp = []\n",
        "    [temp.append(str(j)) for i in T for j in i]                      \n",
        "    T, temp = temp, T    \n",
        "    return T"
      ],
      "execution_count": null,
      "outputs": []
    },
    {
      "cell_type": "markdown",
      "metadata": {
        "id": "HXKA3Ha0FqKS"
      },
      "source": [
        "### 2-5. 음원데이터와 기온 데이터 합치기"
      ]
    },
    {
      "cell_type": "code",
      "metadata": {
        "id": "a-wSpMxpctwv"
      },
      "source": [
        "b = daily[:]\n",
        "\n",
        "# 정보 합치기, 순위 날짜 외 기온 제외\n",
        "for n in range(len(daily)):\n",
        "    b[n].insert(3, openT(dailyUS)[n])\n",
        "    b[n].append(openT(dailyUK)[n])"
      ],
      "execution_count": null,
      "outputs": []
    },
    {
      "cell_type": "markdown",
      "metadata": {
        "id": "iwdgGLozGPIx"
      },
      "source": [
        "# 3. CSV 파일로 저장"
      ]
    },
    {
      "cell_type": "code",
      "metadata": {
        "id": "1cyYDWOlc1Fv"
      },
      "source": [
        "with open('mariah_xmas.csv','w',encoding='utf-8',newline='') as f:\n",
        "    writer = csv.writer(f)\n",
        "    writer.writerow(['date','WDRank','USRank', 'USTemp', 'UKRank', 'UKTemp'])\n",
        "    writer.writerows(b)"
      ],
      "execution_count": null,
      "outputs": []
    }
  ]
}